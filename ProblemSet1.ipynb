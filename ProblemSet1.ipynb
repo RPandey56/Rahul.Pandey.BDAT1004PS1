{
 "cells": [
  {
   "cell_type": "markdown",
   "id": "5086efcf",
   "metadata": {},
   "source": [
    "# Lab 1 Solutions"
   ]
  },
  {
   "cell_type": "markdown",
   "id": "4c313107",
   "metadata": {},
   "source": [
    "**What data type is each of the following (evaluate where necessary)?**\n",
    "**5 \n",
    "5.0\n",
    "5 > 1\n",
    "'5'\n",
    "5 * 2\n",
    "'5' * 2\n",
    "'5' + '2'\n",
    "5 / 2\n",
    "5 % 2\n",
    "{5, 2, 1}\n",
    "5 == 3\n",
    "Pi (the number)**"
   ]
  },
  {
   "cell_type": "code",
   "execution_count": 2,
   "id": "9de71fbd",
   "metadata": {},
   "outputs": [
    {
     "name": "stdout",
     "output_type": "stream",
     "text": [
      "the data type of 5 is <class 'int'>\n",
      "the data type of 5.0 is <class 'float'>\n",
      "the data type of 5>1 is <class 'bool'>\n",
      "the data type of '5' is <class 'str'>\n",
      "the data type of 5*2 is <class 'int'>\n",
      "the data type of '5' * 2  is <class 'str'>\n",
      "the data type of '5' + '2' is <class 'str'>\n",
      "the data type of 5 / 2 is <class 'float'>\n",
      "the data type of 5 % 2 is <class 'int'>\n",
      "the data type of {5, 2, 1} is <class 'set'>\n",
      "the data type of 5 == 3 is <class 'bool'>\n",
      "the data type of pi(the number) is <class 'float'>\n"
     ]
    }
   ],
   "source": [
    "print(\"the data type of 5 is\" ,type(5))\n",
    "\n",
    "print(\"the data type of 5.0 is\" ,type (5.0))\n",
    "\n",
    "print(\"the data type of 5>1 is\" ,type (5>1))\n",
    "\n",
    "print(\"the data type of '5' is\" ,type ('5'))\n",
    "\n",
    "print(\"the data type of 5*2 is\" ,type (5*2))\n",
    "\n",
    "print(\"the data type of '5' * 2  is\" ,type ('5' * 2))\n",
    "\n",
    "print(\"the data type of '5' + '2' is\" ,type ('5' + '2'))\n",
    "\n",
    "print(\"the data type of 5 / 2 is\" ,type (5 / 2))\n",
    "\n",
    "print(\"the data type of 5 % 2 is\" ,type (5 % 2))\n",
    "\n",
    "print(\"the data type of {5, 2, 1} is\" ,type ({5, 2, 1}))\n",
    "\n",
    "print(\"the data type of 5 == 3 is\" ,type (5 == 3))\n",
    "\n",
    "\n",
    "import math\n",
    "print (\"the data type of pi(the number) is\",type(math.pi))"
   ]
  },
  {
   "cell_type": "markdown",
   "id": "f34d5e9f",
   "metadata": {},
   "source": [
    "# Q2 Write (and evaluate) python expressions that answer these questions:\n",
    "\n",
    "**a. How many letters are there in 'Supercalifragilisticexpialidocious'?**\n",
    "\n",
    "**b. Does 'Supercalifragilisticexpialidocious' contain 'ice' as a substring?**\n",
    "\n",
    "**c. Which of the following words is the longest: \n",
    "     Supercalifragilisticexpialidocious, Honorificabilitudinitatibus, or Bababadalgharaghtakamminarronnkonn?**\n",
    "\n",
    "**d. Which composer comes first in the dictionary: 'Berlioz', 'Borodin', 'Brian', 'Bartok', 'Bellini', 'Buxtehude', 'Bernstein'.      Which one comes last?**\n"
   ]
  },
  {
   "cell_type": "code",
   "execution_count": 5,
   "id": "83132f36",
   "metadata": {},
   "outputs": [
    {
     "name": "stdout",
     "output_type": "stream",
     "text": [
      "34  letters are there in 'Supercalifragilisticexpialidocious'\n",
      "--------------------------------\n",
      "Supercalifragilisticexpialidocious' contain 'ice' as a substring , answer is  True\n",
      "--------------------------------\n",
      "length of Supercalifragilisticexpialidocious 34 \n",
      " length of Honorificabilitudinitatibus 27 \n",
      " length of Bababadalgharaghtakamminarronnkonn 34 \n",
      " Word has max letters 34\n",
      "--------------------------------\n",
      "First Composer :  Bartok\n",
      "Last Composer :  Buxtehude\n"
     ]
    }
   ],
   "source": [
    "x1='Supercalifragilisticexpialidocious'\n",
    "print(len(x1),\" letters are there in 'Supercalifragilisticexpialidocious'\")\n",
    "print(\"--------------------------------\")\n",
    "\n",
    "# Does 'Supercalifragilisticexpialidocious' contain 'ice' as a substring?\n",
    "print(\"Supercalifragilisticexpialidocious' contain 'ice' as a substring , answer is \",'ice'in x1)\n",
    "print(\"--------------------------------\")\n",
    "# Which of the following words is the longest: \n",
    "#  Supercalifragilisticexpialidocious, Honorificabilitudinitatibus, or Bababadalgharaghtakamminarronnkonn?\n",
    "x2='Honorificabilitudinitatibus'\n",
    "x3='Bababadalgharaghtakamminarronnkonn'\n",
    "print (\"length of Supercalifragilisticexpialidocious\",len(x1),\"\\n length of Honorificabilitudinitatibus\",len(x2),\"\\n length of Bababadalgharaghtakamminarronnkonn\",len(x3),\"\\n Word has max letters\",max(len(x1),len(x2),len(x3)) )\n",
    "print(\"--------------------------------\")\n",
    "\n",
    "list1=['Berlioz', 'Borodin', 'Brian', 'Bartok', 'Bellini', 'Buxtehude', 'Bernstein']\n",
    "list1.sort()\n",
    "print(\"First Composer : \",list1[0]) \n",
    "print(\"Last Composer : \",list1[-1]) "
   ]
  },
  {
   "cell_type": "markdown",
   "id": "7f192363",
   "metadata": {},
   "source": [
    "# Question 3\n",
    "**Implement function triangleArea(a,b,c) that takes as input the lengths of the 3\n",
    "sides of a triangle and returns the area of the triangle. By Heron's formula, the area \n",
    "of a triangle with side lengths a, b, and c is\n",
    "s(s - a)(s -b)(s -c)\n",
    ", where \n",
    "s = (a+b+c)/2.** \n",
    ">>> triangleArea(2,2,2)\n",
    "1.7320508075688772"
   ]
  },
  {
   "cell_type": "code",
   "execution_count": 6,
   "id": "d1ca19ae",
   "metadata": {},
   "outputs": [
    {
     "name": "stdout",
     "output_type": "stream",
     "text": [
      "Area of Triangle is :  1.7320508075688772\n"
     ]
    }
   ],
   "source": [
    "import math\n",
    "def triangleArea(a,b,c):\n",
    "    s=(a+b+c)/2\n",
    "    area=math.sqrt((s*(s-a)*(s-b)*(s-c)))\n",
    "    print('Area of Triangle is : ',area)\n",
    "    \n",
    "triangleArea(2,2,2)\n",
    "    "
   ]
  },
  {
   "cell_type": "markdown",
   "id": "5ec0647d",
   "metadata": {},
   "source": [
    "# Question 4\n",
    "**Write a program in python to separate odd and even integers in separate arrays. Go \n",
    "to the editor**\n",
    "**Test Data :**\n",
    "**Input the number of elements to be stored in the array :5**\n",
    "**Input 5 elements in the array :\n",
    "**element - 0 : 25**\n",
    "**element - 1 : 47**\n",
    "**element - 2 : 42**\n",
    "**element - 3 : 56**\n",
    "**element - 4 : 32**\n",
    "**Expected Output:**\n",
    "**The Even elements are:**\n",
    "**42 56 32**\n",
    "**The Odd elements are :**\n",
    "**25 47**"
   ]
  },
  {
   "cell_type": "code",
   "execution_count": 9,
   "id": "2798faca",
   "metadata": {},
   "outputs": [
    {
     "name": "stdout",
     "output_type": "stream",
     "text": [
      "The even elements are [42, 56, 32, 42, 56, 32] \n",
      "The odd elements are [25, 47, 25, 47] \n"
     ]
    }
   ],
   "source": [
    "Element_list = [25,47,42,56,32]\n",
    "Even = []\n",
    "Odd = []\n",
    "for e in elements:\n",
    "    if e%2 == 0:\n",
    "        even.append(e)\n",
    "    else:\n",
    "        odd.append(e)\n",
    "print(\"The even elements are {} \".format(even)) \n",
    "print(\"The odd elements are {} \".format(odd))\n"
   ]
  },
  {
   "cell_type": "markdown",
   "id": "4bad499e",
   "metadata": {},
   "source": [
    "# Question 5 \n",
    "**a. Write a function inside(x,y,x1,y1,x2,y2) that returns True or False \n",
    "depending on whether the point (x,y) lies in the rectangle with lower left \n",
    "corner (x1,y1) and upper right corner (x2,y2).**\n",
    ">>> inside(1,1,0,0,2,3)\n",
    "True\n",
    ">>> inside(-1,-1,0,0,2,3)\n",
    "False\n",
    "\n",
    "**b. Use function inside() from part a. to write an expression that tests whether \n",
    "the point (1,1) lies in both of the following rectangles: one with lower left \n",
    "corner (0.3, 0.5) and upper right corner (1.1, 0.7) and the other with lower \n",
    "left corner (0.5, 0.2) and upper right corner (1.1, 2).**"
   ]
  },
  {
   "cell_type": "code",
   "execution_count": 11,
   "id": "c86c57d6",
   "metadata": {},
   "outputs": [
    {
     "name": "stdout",
     "output_type": "stream",
     "text": [
      "True\n",
      " False\n",
      "--------------------------------\n",
      " False\n",
      "True\n"
     ]
    }
   ],
   "source": [
    "def inside(x,y,x1,y1,x2,y2):\n",
    "    if ((x-x1)>0 and (x2-x)>0 and (y-y1)>0 and (y2-y)>0):\n",
    "        print(\"True\")\n",
    "    else :\n",
    "        print(\" False\")\n",
    "inside(1,1,0,0,2,3)     \n",
    "inside(-1,-1,0,0,2,3)\n",
    "\n",
    "print(\"--------------------------------\")\n",
    "\n",
    "inside(1,1,0.3,0.5,1.1,0.7)\n",
    "inside(1,1,0.5,0.2,1.1,2)"
   ]
  },
  {
   "cell_type": "markdown",
   "id": "6b640a51",
   "metadata": {},
   "source": [
    "# Question 6\n",
    "**6. You can turn a word into pig-Latin using the following two rules (simplified):\n",
    "• If the word starts with a consonant, move that letter to the end and append \n",
    "'ay'. For example, 'happy' becomes 'appyhay' and 'pencil' becomes 'encilpay'.\n",
    "• If the word starts with a vowel, simply append 'way' to the end of the word. \n",
    "For example, 'enter' becomes 'enterway' and 'other' becomes 'otherway' . For \n",
    "our purposes, there are 5 vowels: a, e, i, o, u (so we count y as a consonant).\n",
    "Write a function pig() that takes a word (i.e., a string) as input and returns its pig\u0002Latin form. Your function should still work if the input word contains upper case \n",
    "characters. Your output should always be lower case however. **\n",
    ">>> pig('happy')\n",
    "'appyhay'\n",
    ">>> pig('Enter')\n",
    "'enterway'"
   ]
  },
  {
   "cell_type": "code",
   "execution_count": 14,
   "id": "fca52226",
   "metadata": {},
   "outputs": [
    {
     "name": "stdout",
     "output_type": "stream",
     "text": [
      "appyhay\n",
      "---------------\n",
      "enterway\n"
     ]
    }
   ],
   "source": [
    "def pig(word):\n",
    "    vowel_checker = ['a','e','i','o','u']\n",
    "    L_c = word.lower()\n",
    "    if L_c[0] in vowel_checker:\n",
    "        print(L_c+'way')\n",
    "\n",
    "    else:\n",
    "        print(L_c[1:]+L_c[0]+'ay')\n",
    "pig('happy')\n",
    "print(\"---------------\")\n",
    "pig('Enter')"
   ]
  },
  {
   "cell_type": "markdown",
   "id": "743317c2",
   "metadata": {},
   "source": [
    "# Question 7\n",
    "File bloodtype1.txt records blood-types of patients (A, B, AB, O or OO) at a clinic. \n",
    "Write a function bldcount() that reads the file with name name and reports (i.e., \n",
    "prints) how many patients there are in each bloodtype.\n",
    ">>> bldcount('bloodtype.txt')\n",
    "There are 10 patients of blood type A.\n",
    "There is one patient of blood type B.\n",
    "There are 10 patients of blood type AB.\n",
    "There are 12 patients of blood type O.\n",
    "There are no patients of blood type OO."
   ]
  },
  {
   "cell_type": "code",
   "execution_count": 19,
   "id": "7889a7e1",
   "metadata": {},
   "outputs": [
    {
     "name": "stdout",
     "output_type": "stream",
     "text": [
      "There are 15 Patients of Blood type  A.\n",
      "There is One patient of Blood type  B\n",
      "There are 13 Patients of Blood type  AB.\n",
      "There are 15 Patients of Blood type  O.\n",
      "There is no patient of Blood type  OO\n"
     ]
    }
   ],
   "source": [
    "infile = open('bloodtype1.txt') #open File\n",
    "data=infile.read() #read whole file\n",
    "infile.close() #file close\n",
    "wordlist=data.split() #split data and added to wordlist for frequnecy count\n",
    "\n",
    "btype=['A','B','AB','O','OO']\n",
    "for i in btype:\n",
    "    if wordlist.count(i)==1:\n",
    "        print(\"There is One patient of Blood type \",i) #string format and count the value present in list\n",
    "    elif wordlist.count(i)==0:\n",
    "        print(\"There is no patient of Blood type \",i)\n",
    "    else :\n",
    "        print(\"There are {a} Patients of Blood type  {value}.\".format(a=wordlist.count(i),value=i))"
   ]
  },
  {
   "cell_type": "markdown",
   "id": "714c0dd8",
   "metadata": {},
   "source": [
    "# Question 8\n",
    "Write a function curconv() that takes as input:\n",
    "1. a currency represented using a string (e.g., 'JPY' for the Japanese Yen or \n",
    "'EUR' for the Euro)\n",
    "2. an amount\n",
    "and then converts and returns the amount in US dollars.\n",
    ">>> curconv('EUR', 100)\n",
    "122.96544\n",
    ">>> curconv('JPY', 100)\n",
    "1.241401"
   ]
  },
  {
   "cell_type": "code",
   "execution_count": 20,
   "id": "bec8ef74",
   "metadata": {},
   "outputs": [
    {
     "name": "stdout",
     "output_type": "stream",
     "text": [
      "122.96544\n",
      "1.241401\n"
     ]
    }
   ],
   "source": [
    "infile = open('currencies.txt')#open File\n",
    "data=infile.readlines() #read linebyline and store in list \n",
    "curr_rate={} # blank dictionary for data storage\n",
    "\n",
    "for i in data:\n",
    "    a=i.split() #split into the words of line from file stored in list \n",
    "    curr_rate[a[0]]=float(a[1]) # stored the dic with currlabel and rate \n",
    "    \n",
    "def curconv(curr,amt): #define fun\n",
    "    r=curr_rate.get(curr) #get the value from dic as per curr given in argument\n",
    "    final_amount=amt*r #calculate the rate\n",
    "    print(final_amount)\n",
    "\n",
    "curconv('EUR', 100)\n",
    "curconv('JPY', 100)"
   ]
  },
  {
   "cell_type": "markdown",
   "id": "fd8da728",
   "metadata": {},
   "source": [
    "# Question 9\n",
    "Each of the following will cause an exception (an error). Identify what type of \n",
    "exception each will cause.\n",
    "Trying to add incompatible variables, as in \n",
    "adding 6 + ‘a’\n",
    "Referring to the 12th item of a list that has only 10 \n",
    "items\n",
    "Using a value that is out of range for a function’s \n",
    "input, such as calling math.sqrt(-1.0)\n",
    "Using an undeclared variable, such as print(x)\n",
    "when x has not been defined \n",
    "Trying to open a file that does not exist, such as \n",
    "mistyping the file name or looking in the wrong directory"
   ]
  },
  {
   "cell_type": "code",
   "execution_count": 22,
   "id": "7a62d039",
   "metadata": {},
   "outputs": [
    {
     "name": "stdout",
     "output_type": "stream",
     "text": [
      "Exception type: TypeError\n",
      "Exception type: IndexError\n",
      "Exception type: ValueError\n",
      "Exception type: NameError\n",
      "Exception type: FileNotFoundError\n"
     ]
    }
   ],
   "source": [
    "import math  # Import math module for the last case\n",
    "\n",
    "def identify_exception(scenario):\n",
    "    try:\n",
    "        scenario()\n",
    "    except TypeError:\n",
    "        print(\"Exception type: TypeError\")\n",
    "    except IndexError:\n",
    "        print(\"Exception type: IndexError\")\n",
    "    except  ValueError:\n",
    "        print(\"Exception type: ValueError\")\n",
    "    except  NameError:\n",
    "        print(\"Exception type: NameError\")\n",
    "    except  FileNotFoundError:\n",
    "        print(\"Exception type: FileNotFoundError\")\n",
    "    except  Exception as e:\n",
    "        print(f\"An unexpected exception occurred: {type(e).__name__}\")\n",
    "\n",
    "\n",
    "def incompatible_addition():\n",
    "    result = 6 + 'a'\n",
    "\n",
    "\n",
    "def index_out_of_range():\n",
    "    my_list = [1, 2, 3, 4, 5, 6, 7, 8, 9, 10]\n",
    "    item = my_list[11]\n",
    "\n",
    "\n",
    "def value_out_of_range():\n",
    "    result = math.sqrt(-1.0)\n",
    "\n",
    "\n",
    "def undeclared_variable():\n",
    "    print(x)\n",
    "\n",
    "def file_not_found():\n",
    "    with open('non_existent_file.txt', 'r'):\n",
    "        pass\n",
    "\n",
    "\n",
    "identify_exception(incompatible_addition)\n",
    "identify_exception(index_out_of_range)\n",
    "identify_exception(value_out_of_range)\n",
    "identify_exception(undeclared_variable)\n",
    "identify_exception(file_not_found)"
   ]
  },
  {
   "cell_type": "markdown",
   "id": "8c7078a1",
   "metadata": {},
   "source": [
    "# Question 10\n",
    "Encryption is the process of hiding the meaning of a text by substituting letters in the \n",
    "message with other letters, according to some system. If the process is successful, no \n",
    "one but the intended recipient can understand the encrypted message. Cryptanalysis\n",
    "refers to attempts to undo the encryption, even if some details of the encryption are \n",
    "unknown (for example, if an encrypted message has been intercepted). The first step \n",
    "of cryptanalysis is often to build up a table of letter frequencies in the encrypted text. \n",
    "Assume that the string letters is already defined as \n",
    "'abcdefghijklmnopqrstuvwxyz'. Write a function called frequencies()\n",
    "that takes a string as its only parameter, and returns a list of integers, showing the \n",
    "number of times each character appears in the text. Your function may ignore any \n",
    "characters that are not in letters. \n",
    ">>> frequencies('The quick red fox got bored and went home.')\n",
    "[1, 1, 1, 3, 5, 1, 1, 2, 1, 0, 1, 0, 1, 2, 4, 0, 1, 2, 0, 2, \n",
    "1, 0, 1, 1, 0, 0]\n",
    ">>> frequencies('apple'"
   ]
  },
  {
   "cell_type": "code",
   "execution_count": 18,
   "id": "da8ec91f",
   "metadata": {},
   "outputs": [
    {
     "name": "stdout",
     "output_type": "stream",
     "text": [
      "[1, 1, 1, 3, 5, 1, 1, 2, 1, 0, 1, 0, 1, 2, 4, 0, 1, 2, 0, 2, 1, 0, 1, 1, 0, 0]\n",
      "[1, 0, 0, 0, 1, 0, 0, 0, 0, 0, 0, 1, 0, 0, 0, 2, 0, 0, 0, 0, 0, 0, 0, 0, 0, 0]\n"
     ]
    }
   ],
   "source": [
    "a='abcdefghijklmnopqrstuvwxyz' #given char for Frequency count\n",
    "alpha=list(a)\n",
    "\n",
    "def frequencies(str): \n",
    "    fre=[]\n",
    "\n",
    "    for i in alpha: \n",
    "        fre.append(str.count(i)) \n",
    "    print(fre)\n",
    "\n",
    "frequencies('The quick red fox got bored and went home.')\n",
    "frequencies('apple')"
   ]
  },
  {
   "cell_type": "code",
   "execution_count": null,
   "id": "354f31d6",
   "metadata": {},
   "outputs": [],
   "source": []
  }
 ],
 "metadata": {
  "kernelspec": {
   "display_name": "Python 3 (ipykernel)",
   "language": "python",
   "name": "python3"
  },
  "language_info": {
   "codemirror_mode": {
    "name": "ipython",
    "version": 3
   },
   "file_extension": ".py",
   "mimetype": "text/x-python",
   "name": "python",
   "nbconvert_exporter": "python",
   "pygments_lexer": "ipython3",
   "version": "3.11.4"
  }
 },
 "nbformat": 4,
 "nbformat_minor": 5
}
